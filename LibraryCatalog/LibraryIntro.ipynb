{
 "cells": [
  {
   "cell_type": "markdown",
   "metadata": {},
   "source": [
    "This notebook is a starting point for our library catalog analysis project. Note that we're importing not only `pandas` and `numpy` but also a library called `pycallnumber`, which has documentation [here](https://github.com/unt-libraries/pycallnumber). \n"
   ]
  },
  {
   "cell_type": "code",
   "execution_count": 5,
   "metadata": {},
   "outputs": [],
   "source": [
    "import pandas as pd\n",
    "import numpy as np\n",
    "import pycallnumber as pycn"
   ]
  },
  {
   "cell_type": "markdown",
   "metadata": {},
   "source": [
    "Before digging into python, though, you might want to explore the folder this is part of. Note that your workspace probably looks different than it did before--this should make it easier to have multiple files open at once. If you don't like this, you can go the address in your browser bar and change it by replacing `lab` at the end with `tree`. Go figure."
   ]
  },
  {
   "cell_type": "markdown",
   "metadata": {},
   "source": [
    "Anyway, go poke around the `data` folder, open a few files and get a sense of them. How does `CallNumberQuery.txt` seem to be organized? What about `CirculationNumbers.csv`? And open up one of the text files in the `Outline` folder. Study that file carefully to understand what it's telling you.\n"
   ]
  },
  {
   "cell_type": "markdown",
   "metadata": {},
   "source": [
    "Which one of these files seems *easiest* to open? What are you waiting for?"
   ]
  },
  {
   "cell_type": "code",
   "execution_count": 47,
   "metadata": {},
   "outputs": [],
   "source": [
    "\n"
   ]
  },
  {
   "cell_type": "markdown",
   "metadata": {},
   "source": [
    "OK, that shouldna been too bad. Two kinds of files remaining. Which one to tackle? You've probably noticed that only one of our files is a spreadsheet... and we haven't even talked about what to do if we don't have a spreadsheet. Perhaps it's time to return to the [pandas documentation](https://pandas.pydata.org/docs/reference/io.html) and see what our options are. \n",
    "\n"
   ]
  },
  {
   "cell_type": "code",
   "execution_count": 14,
   "metadata": {},
   "outputs": [],
   "source": []
  },
  {
   "cell_type": "markdown",
   "metadata": {},
   "source": [
    "As part of figuring all this out, we also probably need to figure out how call numbers work. So we can create one of these `callnumber` objects and experiment with it:"
   ]
  },
  {
   "cell_type": "code",
   "execution_count": 6,
   "metadata": {},
   "outputs": [],
   "source": [
    "cn = pycn.callnumber('MT 1001 .C35 B40 1992 no. 1')\n"
   ]
  },
  {
   "cell_type": "markdown",
   "metadata": {},
   "source": [
    "If we try to get some documentation from the object, we can see that the developer didn't bother:"
   ]
  },
  {
   "cell_type": "code",
   "execution_count": 7,
   "metadata": {},
   "outputs": [
    {
     "data": {
      "text/plain": [
       "\u001b[0;31mType:\u001b[0m        LC\n",
       "\u001b[0;31mString form:\u001b[0m MT 1001 .C35 B40 1992 no. 1\n",
       "\u001b[0;31mFile:\u001b[0m        /opt/tljh/user/lib/python3.6/site-packages/pycallnumber/units/callnumbers/lc.py\n",
       "\u001b[0;31mDocstring:\u001b[0m   <no docstring>\n"
      ]
     },
     "metadata": {},
     "output_type": "display_data"
    }
   ],
   "source": [
    "cn?"
   ]
  },
  {
   "cell_type": "markdown",
   "metadata": {},
   "source": [
    "But according to the code's web presence, all these things should work:"
   ]
  },
  {
   "cell_type": "code",
   "execution_count": 9,
   "metadata": {},
   "outputs": [
    {
     "data": {
      "text/plain": [
       "<Item 'no. 1'>"
      ]
     },
     "execution_count": 9,
     "metadata": {},
     "output_type": "execute_result"
    }
   ],
   "source": [
    "cn\n",
    "cn.classification\n",
    "cn.cutters\n",
    "cn.edition\n",
    "cn.item"
   ]
  },
  {
   "cell_type": "markdown",
   "metadata": {},
   "source": [
    "Also, the documentation claims that it can process really weirdly formatted call numbers. Probably that's worth understanding. What happens when you give it something so weird it can't handle it at all? How else can we 'break' this code? The better we understand it, the better we'll be able to use it to process our data."
   ]
  },
  {
   "cell_type": "code",
   "execution_count": null,
   "metadata": {},
   "outputs": [],
   "source": []
  }
 ],
 "metadata": {
  "kernelspec": {
   "display_name": "Python 3",
   "language": "python",
   "name": "python3"
  },
  "language_info": {
   "codemirror_mode": {
    "name": "ipython",
    "version": 3
   },
   "file_extension": ".py",
   "mimetype": "text/x-python",
   "name": "python",
   "nbconvert_exporter": "python",
   "pygments_lexer": "ipython3",
   "version": "3.6.7"
  }
 },
 "nbformat": 4,
 "nbformat_minor": 4
}
