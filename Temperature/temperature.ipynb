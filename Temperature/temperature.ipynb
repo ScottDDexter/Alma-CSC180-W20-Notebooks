{
 "cells": [
  {
   "cell_type": "code",
   "execution_count": 2,
   "metadata": {},
   "outputs": [],
   "source": [
    "import pandas as pd\n"
   ]
  },
  {
   "cell_type": "code",
   "execution_count": 13,
   "metadata": {
    "scrolled": true
   },
   "outputs": [
    {
     "data": {
      "text/html": [
       "<div>\n",
       "<style scoped>\n",
       "    .dataframe tbody tr th:only-of-type {\n",
       "        vertical-align: middle;\n",
       "    }\n",
       "\n",
       "    .dataframe tbody tr th {\n",
       "        vertical-align: top;\n",
       "    }\n",
       "\n",
       "    .dataframe thead th {\n",
       "        text-align: right;\n",
       "    }\n",
       "</style>\n",
       "<table border=\"1\" class=\"dataframe\">\n",
       "  <thead>\n",
       "    <tr style=\"text-align: right;\">\n",
       "      <th></th>\n",
       "      <th>CelsiusTemp</th>\n",
       "    </tr>\n",
       "    <tr>\n",
       "      <th>Date/Time</th>\n",
       "      <th></th>\n",
       "    </tr>\n",
       "  </thead>\n",
       "  <tbody>\n",
       "    <tr>\n",
       "      <th>2017-11-20 11:30:01</th>\n",
       "      <td>27.941</td>\n",
       "    </tr>\n",
       "    <tr>\n",
       "      <th>2017-11-20 11:40:01</th>\n",
       "      <td>27.566</td>\n",
       "    </tr>\n",
       "    <tr>\n",
       "      <th>2017-11-20 11:50:01</th>\n",
       "      <td>28.191</td>\n",
       "    </tr>\n",
       "    <tr>\n",
       "      <th>2017-11-20 12:00:01</th>\n",
       "      <td>28.441</td>\n",
       "    </tr>\n",
       "    <tr>\n",
       "      <th>2017-11-20 12:10:01</th>\n",
       "      <td>27.441</td>\n",
       "    </tr>\n",
       "  </tbody>\n",
       "</table>\n",
       "</div>"
      ],
      "text/plain": [
       "                     CelsiusTemp\n",
       "Date/Time                       \n",
       "2017-11-20 11:30:01       27.941\n",
       "2017-11-20 11:40:01       27.566\n",
       "2017-11-20 11:50:01       28.191\n",
       "2017-11-20 12:00:01       28.441\n",
       "2017-11-20 12:10:01       27.441"
      ]
     },
     "execution_count": 13,
     "metadata": {},
     "output_type": "execute_result"
    }
   ],
   "source": [
    "temp_data = pd.read_excel('temperature.xlsx',\n",
    "                          header=19, \n",
    "                          usecols=[0,2], \n",
    "                          names=['Date/Time','CelsiusTemp'],\n",
    "                          index_col=0,\n",
    "                         parsedate=True)\n",
    "temp_data.head()"
   ]
  },
  {
   "cell_type": "code",
   "execution_count": 12,
   "metadata": {},
   "outputs": [
    {
     "data": {
      "text/plain": [
       "DatetimeIndex(['2017-11-20 11:30:01', '2017-11-20 11:40:01',\n",
       "               '2017-11-20 11:50:01', '2017-11-20 12:00:01',\n",
       "               '2017-11-20 12:10:01', '2017-11-20 12:20:01',\n",
       "               '2017-11-20 12:30:01', '2017-11-20 12:40:01',\n",
       "               '2017-11-20 12:50:01', '2017-11-20 13:00:01',\n",
       "               ...\n",
       "               '2017-11-26 13:10:01', '2017-11-26 13:20:01',\n",
       "               '2017-11-26 13:30:01', '2017-11-26 13:40:01',\n",
       "               '2017-11-26 13:50:01', '2017-11-26 14:00:01',\n",
       "               '2017-11-26 14:10:01', '2017-11-26 14:20:01',\n",
       "               '2017-11-26 14:30:01', '2017-11-26 14:40:01'],\n",
       "              dtype='datetime64[ns]', name='Date/Time', length=884, freq=None)"
      ]
     },
     "execution_count": 12,
     "metadata": {},
     "output_type": "execute_result"
    }
   ],
   "source": [
    "temp_data.index\n"
   ]
  },
  {
   "cell_type": "markdown",
   "metadata": {},
   "source": [
    "\n"
   ]
  },
  {
   "cell_type": "code",
   "execution_count": 3,
   "metadata": {},
   "outputs": [
    {
     "data": {
      "text/plain": [
       "DatetimeIndex(['2017-11-20 11:30:01', '2017-11-20 11:40:01',\n",
       "               '2017-11-20 11:50:01', '2017-11-20 12:00:01',\n",
       "               '2017-11-20 12:10:01', '2017-11-20 12:20:01',\n",
       "               '2017-11-20 12:30:01', '2017-11-20 12:40:01',\n",
       "               '2017-11-20 12:50:01', '2017-11-20 13:00:01',\n",
       "               ...\n",
       "               '2017-11-26 13:10:01', '2017-11-26 13:20:01',\n",
       "               '2017-11-26 13:30:01', '2017-11-26 13:40:01',\n",
       "               '2017-11-26 13:50:01', '2017-11-26 14:00:01',\n",
       "               '2017-11-26 14:10:01', '2017-11-26 14:20:01',\n",
       "               '2017-11-26 14:30:01', '2017-11-26 14:40:01'],\n",
       "              dtype='datetime64[ns]', name='Date/Time', length=884, freq=None)"
      ]
     },
     "execution_count": 3,
     "metadata": {},
     "output_type": "execute_result"
    }
   ],
   "source": [
    "temp_data.index"
   ]
  },
  {
   "cell_type": "code",
   "execution_count": 4,
   "metadata": {},
   "outputs": [
    {
     "data": {
      "text/html": [
       "<div>\n",
       "<style scoped>\n",
       "    .dataframe tbody tr th:only-of-type {\n",
       "        vertical-align: middle;\n",
       "    }\n",
       "\n",
       "    .dataframe tbody tr th {\n",
       "        vertical-align: top;\n",
       "    }\n",
       "\n",
       "    .dataframe thead th {\n",
       "        text-align: right;\n",
       "    }\n",
       "</style>\n",
       "<table border=\"1\" class=\"dataframe\">\n",
       "  <thead>\n",
       "    <tr style=\"text-align: right;\">\n",
       "      <th></th>\n",
       "      <th>CelsiusTemp</th>\n",
       "    </tr>\n",
       "  </thead>\n",
       "  <tbody>\n",
       "    <tr>\n",
       "      <th>count</th>\n",
       "      <td>884.000000</td>\n",
       "    </tr>\n",
       "    <tr>\n",
       "      <th>mean</th>\n",
       "      <td>32.428132</td>\n",
       "    </tr>\n",
       "    <tr>\n",
       "      <th>std</th>\n",
       "      <td>2.412045</td>\n",
       "    </tr>\n",
       "    <tr>\n",
       "      <th>min</th>\n",
       "      <td>20.690000</td>\n",
       "    </tr>\n",
       "    <tr>\n",
       "      <th>25%</th>\n",
       "      <td>30.799500</td>\n",
       "    </tr>\n",
       "    <tr>\n",
       "      <th>50%</th>\n",
       "      <td>32.814000</td>\n",
       "    </tr>\n",
       "    <tr>\n",
       "      <th>75%</th>\n",
       "      <td>34.250000</td>\n",
       "    </tr>\n",
       "    <tr>\n",
       "      <th>max</th>\n",
       "      <td>36.810000</td>\n",
       "    </tr>\n",
       "  </tbody>\n",
       "</table>\n",
       "</div>"
      ],
      "text/plain": [
       "       CelsiusTemp\n",
       "count   884.000000\n",
       "mean     32.428132\n",
       "std       2.412045\n",
       "min      20.690000\n",
       "25%      30.799500\n",
       "50%      32.814000\n",
       "75%      34.250000\n",
       "max      36.810000"
      ]
     },
     "execution_count": 4,
     "metadata": {},
     "output_type": "execute_result"
    }
   ],
   "source": [
    "temp_data.describe(include=\"all\")"
   ]
  },
  {
   "cell_type": "code",
   "execution_count": 17,
   "metadata": {},
   "outputs": [
    {
     "data": {
      "text/plain": [
       "<matplotlib.axes._subplots.AxesSubplot at 0x7ff25d039710>"
      ]
     },
     "execution_count": 17,
     "metadata": {},
     "output_type": "execute_result"
    },
    {
     "data": {
      "image/png": "[encoded data removed]",
      "text/plain": [
       "<Figure size 432x288 with 1 Axes>"
      ]
     },
     "metadata": {
      "needs_background": "light"
     },
     "output_type": "display_data"
    }
   ],
   "source": [
    "temp_data.plot()\n"
   ]
  },
  {
   "cell_type": "code",
   "execution_count": 20,
   "metadata": {},
   "outputs": [
    {
     "data": {
      "text/plain": [
       "[22.566, 21.941, 20.69, 21.378]"
      ]
     },
     "execution_count": 20,
     "metadata": {},
     "output_type": "execute_result"
    }
   ],
   "source": [
    "\n",
    "\n"
   ]
  },
  {
   "cell_type": "code",
   "execution_count": 19,
   "metadata": {},
   "outputs": [
    {
     "ename": "TypeError",
     "evalue": "find() takes at least 1 argument (0 given)",
     "output_type": "error",
     "traceback": [
      "\u001b[0;31m---------------------------------------------------------------------------\u001b[0m",
      "\u001b[0;31mTypeError\u001b[0m                                 Traceback (most recent call last)",
      "\u001b[0;32m<ipython-input-19-7572358fa1e8>\u001b[0m in \u001b[0;36m<module>\u001b[0;34m\u001b[0m\n\u001b[0;32m----> 1\u001b[0;31m \u001b[0;34m[\u001b[0m\u001b[0mx\u001b[0m \u001b[0;32mfor\u001b[0m \u001b[0mx\u001b[0m \u001b[0;32min\u001b[0m \u001b[0mtemp_data\u001b[0m \u001b[0;32mif\u001b[0m \u001b[0mx\u001b[0m\u001b[0;34m.\u001b[0m\u001b[0mfind\u001b[0m\u001b[0;34m(\u001b[0m\u001b[0;34m)\u001b[0m \u001b[0;34m<\u001b[0m \u001b[0;36m26\u001b[0m\u001b[0;34m]\u001b[0m\u001b[0;34m\u001b[0m\u001b[0;34m\u001b[0m\u001b[0m\n\u001b[0m",
      "\u001b[0;32m<ipython-input-19-7572358fa1e8>\u001b[0m in \u001b[0;36m<listcomp>\u001b[0;34m(.0)\u001b[0m\n\u001b[0;32m----> 1\u001b[0;31m \u001b[0;34m[\u001b[0m\u001b[0mx\u001b[0m \u001b[0;32mfor\u001b[0m \u001b[0mx\u001b[0m \u001b[0;32min\u001b[0m \u001b[0mtemp_data\u001b[0m \u001b[0;32mif\u001b[0m \u001b[0mx\u001b[0m\u001b[0;34m.\u001b[0m\u001b[0mfind\u001b[0m\u001b[0;34m(\u001b[0m\u001b[0;34m)\u001b[0m \u001b[0;34m<\u001b[0m \u001b[0;36m26\u001b[0m\u001b[0;34m]\u001b[0m\u001b[0;34m\u001b[0m\u001b[0;34m\u001b[0m\u001b[0m\n\u001b[0m",
      "\u001b[0;31mTypeError\u001b[0m: find() takes at least 1 argument (0 given)"
     ]
    }
   ],
   "source": [
    "[x for x in temp_data if x.find() < 26]"
   ]
  },
  {
   "cell_type": "code",
   "execution_count": 21,
   "metadata": {},
   "outputs": [
    {
     "data": {
      "text/plain": [
       "Date/Time\n",
       "2017-11-20 11:30:01    False\n",
       "2017-11-20 11:40:01    False\n",
       "2017-11-20 11:50:01    False\n",
       "2017-11-20 12:00:01    False\n",
       "2017-11-20 12:10:01    False\n",
       "                       ...  \n",
       "2017-11-26 14:00:01    False\n",
       "2017-11-26 14:10:01    False\n",
       "2017-11-26 14:20:01    False\n",
       "2017-11-26 14:30:01    False\n",
       "2017-11-26 14:40:01    False\n",
       "Name: CelsiusTemp, Length: 884, dtype: bool"
      ]
     },
     "execution_count": 21,
     "metadata": {},
     "output_type": "execute_result"
    }
   ],
   "source": [
    "temp_data['CelsiusTemp'] < 26"
   ]
  },
  {
   "cell_type": "code",
   "execution_count": 22,
   "metadata": {},
   "outputs": [
    {
     "data": {
      "text/html": [
       "<div>\n",
       "<style scoped>\n",
       "    .dataframe tbody tr th:only-of-type {\n",
       "        vertical-align: middle;\n",
       "    }\n",
       "\n",
       "    .dataframe tbody tr th {\n",
       "        vertical-align: top;\n",
       "    }\n",
       "\n",
       "    .dataframe thead th {\n",
       "        text-align: right;\n",
       "    }\n",
       "</style>\n",
       "<table border=\"1\" class=\"dataframe\">\n",
       "  <thead>\n",
       "    <tr style=\"text-align: right;\">\n",
       "      <th></th>\n",
       "      <th>CelsiusTemp</th>\n",
       "    </tr>\n",
       "    <tr>\n",
       "      <th>Date/Time</th>\n",
       "      <th></th>\n",
       "    </tr>\n",
       "  </thead>\n",
       "  <tbody>\n",
       "    <tr>\n",
       "      <th>2017-11-20 12:30:01</th>\n",
       "      <td>25.504</td>\n",
       "    </tr>\n",
       "    <tr>\n",
       "      <th>2017-11-21 07:30:01</th>\n",
       "      <td>22.566</td>\n",
       "    </tr>\n",
       "    <tr>\n",
       "      <th>2017-11-22 15:10:01</th>\n",
       "      <td>25.316</td>\n",
       "    </tr>\n",
       "    <tr>\n",
       "      <th>2017-11-22 15:20:01</th>\n",
       "      <td>25.441</td>\n",
       "    </tr>\n",
       "    <tr>\n",
       "      <th>2017-11-22 15:30:01</th>\n",
       "      <td>25.629</td>\n",
       "    </tr>\n",
       "    <tr>\n",
       "      <th>2017-11-23 10:50:01</th>\n",
       "      <td>21.941</td>\n",
       "    </tr>\n",
       "    <tr>\n",
       "      <th>2017-11-24 12:10:01</th>\n",
       "      <td>20.690</td>\n",
       "    </tr>\n",
       "    <tr>\n",
       "      <th>2017-11-25 11:40:01</th>\n",
       "      <td>25.816</td>\n",
       "    </tr>\n",
       "    <tr>\n",
       "      <th>2017-11-25 11:50:01</th>\n",
       "      <td>21.378</td>\n",
       "    </tr>\n",
       "    <tr>\n",
       "      <th>2017-11-25 12:00:01</th>\n",
       "      <td>24.879</td>\n",
       "    </tr>\n",
       "  </tbody>\n",
       "</table>\n",
       "</div>"
      ],
      "text/plain": [
       "                     CelsiusTemp\n",
       "Date/Time                       \n",
       "2017-11-20 12:30:01       25.504\n",
       "2017-11-21 07:30:01       22.566\n",
       "2017-11-22 15:10:01       25.316\n",
       "2017-11-22 15:20:01       25.441\n",
       "2017-11-22 15:30:01       25.629\n",
       "2017-11-23 10:50:01       21.941\n",
       "2017-11-24 12:10:01       20.690\n",
       "2017-11-25 11:40:01       25.816\n",
       "2017-11-25 11:50:01       21.378\n",
       "2017-11-25 12:00:01       24.879"
      ]
     },
     "execution_count": 22,
     "metadata": {},
     "output_type": "execute_result"
    }
   ],
   "source": [
    "temp_data[temp_data['CelsiusTemp'] < 26]"
   ]
  },
  {
   "cell_type": "code",
   "execution_count": 8,
   "metadata": {},
   "outputs": [
    {
     "data": {
      "text/html": [
       "<div>\n",
       "<style scoped>\n",
       "    .dataframe tbody tr th:only-of-type {\n",
       "        vertical-align: middle;\n",
       "    }\n",
       "\n",
       "    .dataframe tbody tr th {\n",
       "        vertical-align: top;\n",
       "    }\n",
       "\n",
       "    .dataframe thead th {\n",
       "        text-align: right;\n",
       "    }\n",
       "</style>\n",
       "<table border=\"1\" class=\"dataframe\">\n",
       "  <thead>\n",
       "    <tr style=\"text-align: right;\">\n",
       "      <th></th>\n",
       "      <th>CelsiusTemp</th>\n",
       "    </tr>\n",
       "  </thead>\n",
       "  <tbody>\n",
       "    <tr>\n",
       "      <th>count</th>\n",
       "      <td>884.000000</td>\n",
       "    </tr>\n",
       "    <tr>\n",
       "      <th>mean</th>\n",
       "      <td>32.428132</td>\n",
       "    </tr>\n",
       "    <tr>\n",
       "      <th>std</th>\n",
       "      <td>2.412045</td>\n",
       "    </tr>\n",
       "    <tr>\n",
       "      <th>min</th>\n",
       "      <td>20.690000</td>\n",
       "    </tr>\n",
       "    <tr>\n",
       "      <th>25%</th>\n",
       "      <td>30.799500</td>\n",
       "    </tr>\n",
       "    <tr>\n",
       "      <th>50%</th>\n",
       "      <td>32.814000</td>\n",
       "    </tr>\n",
       "    <tr>\n",
       "      <th>75%</th>\n",
       "      <td>34.250000</td>\n",
       "    </tr>\n",
       "    <tr>\n",
       "      <th>max</th>\n",
       "      <td>36.810000</td>\n",
       "    </tr>\n",
       "  </tbody>\n",
       "</table>\n",
       "</div>"
      ],
      "text/plain": [
       "       CelsiusTemp\n",
       "count   884.000000\n",
       "mean     32.428132\n",
       "std       2.412045\n",
       "min      20.690000\n",
       "25%      30.799500\n",
       "50%      32.814000\n",
       "75%      34.250000\n",
       "max      36.810000"
      ]
     },
     "execution_count": 8,
     "metadata": {},
     "output_type": "execute_result"
    }
   ],
   "source": [
    "temp_data.describe()\n"
   ]
  },
  {
   "cell_type": "code",
   "execution_count": null,
   "metadata": {},
   "outputs": [],
   "source": []
  }
 ],
 "metadata": {
  "kernelspec": {
   "display_name": "Python 3",
   "language": "python",
   "name": "python3"
  },
  "language_info": {
   "codemirror_mode": {
    "name": "ipython",
    "version": 3
   },
   "file_extension": ".py",
   "mimetype": "text/x-python",
   "name": "python",
   "nbconvert_exporter": "python",
   "pygments_lexer": "ipython3",
   "version": "3.6.7"
  }
 },
 "nbformat": 4,
 "nbformat_minor": 4
}
